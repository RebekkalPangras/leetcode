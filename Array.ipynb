{
  "nbformat": 4,
  "nbformat_minor": 0,
  "metadata": {
    "colab": {
      "name": "Array",
      "provenance": [],
      "authorship_tag": "ABX9TyP5oMmkzAXDYYSr4RIaHWuV",
      "include_colab_link": true
    },
    "kernelspec": {
      "name": "python3",
      "display_name": "Python 3"
    },
    "language_info": {
      "name": "python"
    }
  },
  "cells": [
    {
      "cell_type": "markdown",
      "metadata": {
        "id": "view-in-github",
        "colab_type": "text"
      },
      "source": [
        "<a href=\"https://colab.research.google.com/github/RebekkalPangras/leetcode/blob/main/Array.ipynb\" target=\"_parent\"><img src=\"https://colab.research.google.com/assets/colab-badge.svg\" alt=\"Open In Colab\"/></a>"
      ]
    },
    {
      "cell_type": "markdown",
      "metadata": {
        "id": "6mfShHhtyZrV"
      },
      "source": [
        "##  Max Consecutive Ones\n",
        "\n",
        "\n",
        "Given a binary array nums, return the maximum number of consecutive 1's in the array.\n",
        "\n",
        "\n",
        "    Input: nums = [1,1,0,1,1,1]\n",
        "\n",
        "    Output: 3\n",
        "\n",
        "    Explanation: The first two digits or the last three digits are consecutive 1s. The maximum number of consecutive 1s is 3."
      ]
    },
    {
      "cell_type": "code",
      "metadata": {
        "id": "dq2r903VygzS"
      },
      "source": [
        "class Solution {\n",
        "    public int findMaxConsecutiveOnes(int[] nums) {\n",
        "        int cons_one = 0;\n",
        "        int new_cons = 0;\n",
        "        for(int element:nums) {\n",
        "            if(element == 1){\n",
        "                new_cons += 1;\n",
        "            } else {\n",
        "                if(new_cons > cons_one){\n",
        "                    cons_one = new_cons;\n",
        "                }\n",
        "                new_cons = 0;\n",
        "            }\n",
        "        }\n",
        "        if(new_cons > cons_one){\n",
        "            cons_one = new_cons;\n",
        "        }\n",
        "        return cons_one;\n",
        "    }\n",
        "}"
      ],
      "execution_count": null,
      "outputs": []
    }
  ]
}