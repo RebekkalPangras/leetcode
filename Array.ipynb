{
  "nbformat": 4,
  "nbformat_minor": 0,
  "metadata": {
    "colab": {
      "name": "Array",
      "provenance": [],
      "authorship_tag": "ABX9TyO9qqEttYd8vibmRtEu+cvt",
      "include_colab_link": true
    },
    "kernelspec": {
      "name": "python3",
      "display_name": "Python 3"
    },
    "language_info": {
      "name": "python"
    }
  },
  "cells": [
    {
      "cell_type": "markdown",
      "metadata": {
        "id": "view-in-github",
        "colab_type": "text"
      },
      "source": [
        "<a href=\"https://colab.research.google.com/github/RebekkalPangras/leetcode/blob/main/Array.ipynb\" target=\"_parent\"><img src=\"https://colab.research.google.com/assets/colab-badge.svg\" alt=\"Open In Colab\"/></a>"
      ]
    },
    {
      "cell_type": "markdown",
      "metadata": {
        "id": "6mfShHhtyZrV"
      },
      "source": [
        "##  Max Consecutive Ones\n",
        "\n",
        "\n",
        "Given a binary array nums, return the maximum number of consecutive 1's in the array.\n",
        "\n",
        "\n",
        "    Input: nums = [1,1,0,1,1,1]\n",
        "\n",
        "    Output: 3\n",
        "\n",
        "    Explanation: The first two digits or the last three digits are consecutive 1s. The maximum number of consecutive 1s is 3."
      ]
    },
    {
      "cell_type": "code",
      "metadata": {
        "id": "dq2r903VygzS"
      },
      "source": [
        "class Solution {\n",
        "    public int findMaxConsecutiveOnes(int[] nums) {\n",
        "        int cons_one = 0;\n",
        "        int new_cons = 0;\n",
        "        for(int element:nums) {\n",
        "            if(element == 1){\n",
        "                new_cons += 1;\n",
        "            } else {\n",
        "                if(new_cons > cons_one){\n",
        "                    cons_one = new_cons;\n",
        "                }\n",
        "                new_cons = 0;\n",
        "            }\n",
        "        }\n",
        "        if(new_cons > cons_one){\n",
        "            cons_one = new_cons;\n",
        "        }\n",
        "        return cons_one;\n",
        "    }\n",
        "}"
      ],
      "execution_count": null,
      "outputs": []
    },
    {
      "cell_type": "markdown",
      "metadata": {
        "id": "F4EI-bqb0XQb"
      },
      "source": [
        "## Find Numbers with Even Number of Digits\n",
        "\n",
        "Given an array nums of integers, return how many of them contain an even number of digits.\n",
        " \n",
        "\n",
        "Example:\n",
        "\n",
        "    Input: nums = [12,345,2,6,7896]\n",
        "    Output: 2\n",
        "    Explanation: \n",
        "      12 contains 2 digits (even number of digits). \n",
        "      345 contains 3 digits (odd number of digits). \n",
        "      2 contains 1 digit (odd number of digits). \n",
        "      6 contains 1 digit (odd number of digits). \n",
        "      7896 contains 4 digits (even number of digits). \n",
        "    Therefore only 12 and 7896 contain an even number of digits."
      ]
    },
    {
      "cell_type": "code",
      "metadata": {
        "id": "_-jHuSKR0fsX"
      },
      "source": [
        "class Solution {\n",
        "    public int findNumbers(int[] nums) {\n",
        "        int evenNums = 0;\n",
        "        int numLen = 0;\n",
        "        for(int num : nums) {\n",
        "            numLen = String.valueOf(num).length();\n",
        "            if(numLen%2 == 0) {\n",
        "                evenNums +=1;\n",
        "            }\n",
        "        }\n",
        "        return evenNums;\n",
        "    }\n",
        "}"
      ],
      "execution_count": null,
      "outputs": []
    },
    {
      "cell_type": "markdown",
      "metadata": {
        "id": "kWMoKXbp2KwM"
      },
      "source": [
        "## Squares of a Sorted Array\n",
        "\n",
        "Given an integer array nums sorted in non-decreasing order, return an array of the squares of each number sorted in non-decreasing order.\n",
        "\n",
        " \n",
        "\n",
        "Example:\n",
        "\n",
        "    Input: nums = [-4,-1,0,3,10]\n",
        "    Output: [0,1,9,16,100]\n",
        "    Explanation: After squaring, the array becomes [16,1,0,9,100].\n",
        "    After sorting, it becomes [0,1,9,16,100]."
      ]
    },
    {
      "cell_type": "code",
      "metadata": {
        "id": "OLDPW16Z2QF5"
      },
      "source": [
        "class Solution {\n",
        "    public int[] sortedSquares(int[] nums) {\n",
        "        \n",
        "        for(int i=0;i<nums.length;i++){\n",
        "            nums[i]=nums[i]*nums[i];\n",
        "        }\n",
        "        Arrays.sort(nums);\n",
        "        return nums;\n",
        "    }\n",
        "}"
      ],
      "execution_count": null,
      "outputs": []
    },
    {
      "cell_type": "markdown",
      "metadata": {
        "id": "0RRcdFO892Oa"
      },
      "source": [
        "# Inserting items into an Array\n",
        "\n",
        "## Duplicate Zeros\n",
        "\n",
        "Given a fixed length array arr of integers, duplicate each occurrence of zero, shifting the remaining elements to the right.\n",
        "\n",
        "\n",
        "Note that elements beyond the length of the original array are not written.\n",
        "\n",
        "\n",
        "Do the above modifications to the input array in place, do not return anything from your function.\n",
        "\n",
        " \n",
        "\n",
        "Example:\n",
        "\n",
        "    Input: [1,0,2,3,0,4,5,0]\n",
        "    Output: null\n",
        "    Explanation: After calling your function, the input array is modified to: [1,0,0,2,3,0,0,4]"
      ]
    },
    {
      "cell_type": "code",
      "metadata": {
        "id": "94g6cze7-I26"
      },
      "source": [
        "class Solution {\n",
        "    public void duplicateZeros(int[] arr) {\n",
        "        for(int i=0; i<arr.length-1;i++) {\n",
        "            if(arr[i]==0) {\n",
        "                for(int j = arr.length-2; j>i; j--) {\n",
        "                    arr[j+1] = arr[j];\n",
        "                }\n",
        "                arr[i+1]=0;\n",
        "                i+=1;\n",
        "            }\n",
        "        }\n",
        "    }\n",
        "}"
      ],
      "execution_count": null,
      "outputs": []
    },
    {
      "cell_type": "markdown",
      "metadata": {
        "id": "L1OVE8CCHFqt"
      },
      "source": [
        "## Merge Sorted Array\n",
        "\n",
        "\n",
        "You are given two integer arrays nums1 and nums2, sorted in non-decreasing order, and two integers m and n, representing the number of elements in nums1 and nums2 respectively.\n",
        "\n",
        "\n",
        "Merge nums1 and nums2 into a single array sorted in non-decreasing order.\n",
        "\n",
        "\n",
        "The final sorted array should not be returned by the function, but instead be stored inside the array nums1. To accommodate this, nums1 has a length of m + n, where the first m elements denote the elements that should be merged, and the last n elements are set to 0 and should be ignored. nums2 has a length of n.\n",
        "\n",
        " \n",
        "\n",
        "Example:\n",
        "\n",
        "    Input: nums1 = [1,2,3,0,0,0], m = 3, nums2 = [2,5,6], n = 3\n",
        "    Output: [1,2,2,3,5,6]\n",
        "    Explanation: The arrays we are merging are [1,2,3] and [2,5,6].\n",
        "    The result of the merge is [1,2,2,3,5,6] with the underlined elements coming from nums1."
      ]
    },
    {
      "cell_type": "code",
      "metadata": {
        "id": "SJe1_YbsHOn4"
      },
      "source": [
        "class Solution {\n",
        "    public void merge(int[] nums1, int m, int[] nums2, int n) {\n",
        "        int j =0;\n",
        "        if(n>0){\n",
        "            for(int i=0;i<m+n;i++) {            \n",
        "                if(nums1[i] >= nums2[j]) {                \n",
        "                    for(int k=m+n-2; k>=i; k--){\n",
        "                        nums1[k+1] = nums1[k];\n",
        "                    }\n",
        "                    nums1[i]=nums2[j];\n",
        "                    j+=1;\n",
        "                } else if(nums1[i]==0){\n",
        "                    nums1[i]=nums2[j];\n",
        "                    j+=1;\n",
        "                }\n",
        "            }\n",
        "        }\n",
        "    }\n",
        "}"
      ],
      "execution_count": null,
      "outputs": []
    }
  ]
}