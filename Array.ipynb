{
  "nbformat": 4,
  "nbformat_minor": 0,
  "metadata": {
    "colab": {
      "name": "Array",
      "provenance": [],
      "authorship_tag": "ABX9TyNzbchZg+RAP0bYQCku3LBz",
      "include_colab_link": true
    },
    "kernelspec": {
      "name": "python3",
      "display_name": "Python 3"
    },
    "language_info": {
      "name": "python"
    }
  },
  "cells": [
    {
      "cell_type": "markdown",
      "metadata": {
        "id": "view-in-github",
        "colab_type": "text"
      },
      "source": [
        "<a href=\"https://colab.research.google.com/github/RebekkalPangras/leetcode/blob/main/Array.ipynb\" target=\"_parent\"><img src=\"https://colab.research.google.com/assets/colab-badge.svg\" alt=\"Open In Colab\"/></a>"
      ]
    },
    {
      "cell_type": "markdown",
      "metadata": {
        "id": "6mfShHhtyZrV"
      },
      "source": [
        "##  Max Consecutive Ones\n",
        "\n",
        "\n",
        "Given a binary array nums, return the maximum number of consecutive 1's in the array.\n",
        "\n",
        "\n",
        "    Input: nums = [1,1,0,1,1,1]\n",
        "\n",
        "    Output: 3\n",
        "\n",
        "    Explanation: The first two digits or the last three digits are consecutive 1s. The maximum number of consecutive 1s is 3."
      ]
    },
    {
      "cell_type": "code",
      "metadata": {
        "id": "dq2r903VygzS"
      },
      "source": [
        "class Solution {\n",
        "    public int findMaxConsecutiveOnes(int[] nums) {\n",
        "        int cons_one = 0;\n",
        "        int new_cons = 0;\n",
        "        for(int element:nums) {\n",
        "            if(element == 1){\n",
        "                new_cons += 1;\n",
        "            } else {\n",
        "                if(new_cons > cons_one){\n",
        "                    cons_one = new_cons;\n",
        "                }\n",
        "                new_cons = 0;\n",
        "            }\n",
        "        }\n",
        "        if(new_cons > cons_one){\n",
        "            cons_one = new_cons;\n",
        "        }\n",
        "        return cons_one;\n",
        "    }\n",
        "}"
      ],
      "execution_count": null,
      "outputs": []
    },
    {
      "cell_type": "markdown",
      "metadata": {
        "id": "F4EI-bqb0XQb"
      },
      "source": [
        "## Find Numbers with Even Number of Digits\n",
        "\n",
        "Given an array nums of integers, return how many of them contain an even number of digits.\n",
        " \n",
        "\n",
        "Example:\n",
        "\n",
        "    Input: nums = [12,345,2,6,7896]\n",
        "    Output: 2\n",
        "    Explanation: \n",
        "      12 contains 2 digits (even number of digits). \n",
        "      345 contains 3 digits (odd number of digits). \n",
        "      2 contains 1 digit (odd number of digits). \n",
        "      6 contains 1 digit (odd number of digits). \n",
        "      7896 contains 4 digits (even number of digits). \n",
        "    Therefore only 12 and 7896 contain an even number of digits."
      ]
    },
    {
      "cell_type": "code",
      "metadata": {
        "id": "_-jHuSKR0fsX"
      },
      "source": [
        "class Solution {\n",
        "    public int findNumbers(int[] nums) {\n",
        "        int evenNums = 0;\n",
        "        int numLen = 0;\n",
        "        for(int num : nums) {\n",
        "            numLen = String.valueOf(num).length();\n",
        "            if(numLen%2 == 0) {\n",
        "                evenNums +=1;\n",
        "            }\n",
        "        }\n",
        "        return evenNums;\n",
        "    }\n",
        "}"
      ],
      "execution_count": null,
      "outputs": []
    },
    {
      "cell_type": "markdown",
      "metadata": {
        "id": "kWMoKXbp2KwM"
      },
      "source": [
        "## Squares of a Sorted Array\n",
        "\n",
        "Given an integer array nums sorted in non-decreasing order, return an array of the squares of each number sorted in non-decreasing order.\n",
        "\n",
        " \n",
        "\n",
        "Example:\n",
        "\n",
        "    Input: nums = [-4,-1,0,3,10]\n",
        "    Output: [0,1,9,16,100]\n",
        "    Explanation: After squaring, the array becomes [16,1,0,9,100].\n",
        "    After sorting, it becomes [0,1,9,16,100]."
      ]
    },
    {
      "cell_type": "code",
      "metadata": {
        "id": "OLDPW16Z2QF5"
      },
      "source": [
        "class Solution {\n",
        "    public int[] sortedSquares(int[] nums) {\n",
        "        \n",
        "        for(int i=0;i<nums.length;i++){\n",
        "            nums[i]=nums[i]*nums[i];\n",
        "        }\n",
        "        Arrays.sort(nums);\n",
        "        return nums;\n",
        "    }\n",
        "}"
      ],
      "execution_count": null,
      "outputs": []
    },
    {
      "cell_type": "markdown",
      "metadata": {
        "id": "0RRcdFO892Oa"
      },
      "source": [
        "# Inserting items into an Array\n",
        "\n",
        "## Duplicate Zeros\n",
        "\n",
        "Given a fixed length array arr of integers, duplicate each occurrence of zero, shifting the remaining elements to the right.\n",
        "\n",
        "\n",
        "Note that elements beyond the length of the original array are not written.\n",
        "\n",
        "\n",
        "Do the above modifications to the input array in place, do not return anything from your function.\n",
        "\n",
        " \n",
        "\n",
        "Example:\n",
        "\n",
        "    Input: [1,0,2,3,0,4,5,0]\n",
        "    Output: null\n",
        "    Explanation: After calling your function, the input array is modified to: [1,0,0,2,3,0,0,4]"
      ]
    },
    {
      "cell_type": "code",
      "metadata": {
        "id": "94g6cze7-I26"
      },
      "source": [
        "class Solution {\n",
        "    public void duplicateZeros(int[] arr) {\n",
        "        for(int i=0; i<arr.length-1;i++) {\n",
        "            if(arr[i]==0) {\n",
        "                for(int j = arr.length-2; j>i; j--) {\n",
        "                    arr[j+1] = arr[j];\n",
        "                }\n",
        "                arr[i+1]=0;\n",
        "                i+=1;\n",
        "            }\n",
        "        }\n",
        "    }\n",
        "}"
      ],
      "execution_count": null,
      "outputs": []
    },
    {
      "cell_type": "markdown",
      "metadata": {
        "id": "L1OVE8CCHFqt"
      },
      "source": [
        "## Merge Sorted Array\n",
        "\n",
        "\n",
        "You are given two integer arrays nums1 and nums2, sorted in non-decreasing order, and two integers m and n, representing the number of elements in nums1 and nums2 respectively.\n",
        "\n",
        "\n",
        "Merge nums1 and nums2 into a single array sorted in non-decreasing order.\n",
        "\n",
        "\n",
        "The final sorted array should not be returned by the function, but instead be stored inside the array nums1. To accommodate this, nums1 has a length of m + n, where the first m elements denote the elements that should be merged, and the last n elements are set to 0 and should be ignored. nums2 has a length of n.\n",
        "\n",
        " \n",
        "\n",
        "Example:\n",
        "\n",
        "    Input: nums1 = [1,2,3,0,0,0], m = 3, nums2 = [2,5,6], n = 3\n",
        "    Output: [1,2,2,3,5,6]\n",
        "    Explanation: The arrays we are merging are [1,2,3] and [2,5,6].\n",
        "    The result of the merge is [1,2,2,3,5,6] with the underlined elements coming from nums1."
      ]
    },
    {
      "cell_type": "code",
      "metadata": {
        "id": "SJe1_YbsHOn4"
      },
      "source": [
        "class Solution {\n",
        "    public void merge(int[] nums1, int m, int[] nums2, int n) {\n",
        "        int j =0;\n",
        "        if(n>0){\n",
        "            for(int i=0;i<nums1.length;i++) {\n",
        "                if(nums1[i] >= nums2[j]) {                \n",
        "                    for(int k=m+n-2; k>=i; k--){\n",
        "                        nums1[k+1] = nums1[k];\n",
        "                    }\n",
        "                    nums1[i]=nums2[j];\n",
        "                    System.out.println(nums1[i]);\n",
        "                    j+=1;\n",
        "                } else if(nums1[i]==0&&m==0) {\n",
        "                    nums1[i]=nums2[j];\n",
        "                    j+=1;\n",
        "                } else if(nums1[i]==0&&nums1.length-i == nums2.length-j){\n",
        "                    nums1[i]=nums2[j];\n",
        "                    j+=1;\n",
        "                }\n",
        "                \n",
        "                if(j==nums2.length){\n",
        "                    break;\n",
        "                }\n",
        "            }\n",
        "        }\n",
        "    }\n",
        "}"
      ],
      "execution_count": null,
      "outputs": []
    },
    {
      "cell_type": "markdown",
      "metadata": {
        "id": "yq8T9QMFD8Ox"
      },
      "source": [
        "## Remove Element\n",
        "\n",
        "\n",
        "Given an integer array nums and an integer val, remove all occurrences of val in nums in-place. The relative order of the elements may be changed.\n",
        "\n",
        "Since it is impossible to change the length of the array in some languages, you must instead have the result be placed in the first part of the array nums. More formally, if there are k elements after removing the duplicates, then the first k elements of nums should hold the final result. It does not matter what you leave beyond the first k elements.\n",
        "\n",
        "Return k after placing the final result in the first k slots of nums.\n",
        "\n",
        "Do not allocate extra space for another array. You must do this by modifying the input array in-place with O(1) extra memory.\n",
        "\n",
        "Custom Judge:\n",
        "\n",
        "The judge will test your solution with the following code:\n",
        "\n",
        "    int[] nums = [...]; // Input array\n",
        "    int val = ...; // Value to remove\n",
        "    int[] expectedNums = [...]; // The expected answer with correct length.\n",
        "                                // It is sorted with no values equaling val.\n",
        "\n",
        "    int k = removeElement(nums, val); // Calls your implementation\n",
        "\n",
        "    assert k == expectedNums.length;\n",
        "    sort(nums, 0, k); // Sort the first k elements of nums\n",
        "    for (int i = 0; i < actualLength; i++) {\n",
        "        assert nums[i] == expectedNums[i];\n",
        "    }\n",
        "If all assertions pass, then your solution will be accepted.\n",
        "\n",
        " \n",
        "\n",
        "Example:\n",
        "\n",
        "    Input: nums = [3,2,2,3], val = 3\n",
        "    Output: 2, nums = [2,2,_,_]\n",
        "    Explanation: Your function should return k = 2, with the first two elements of nums being 2.\n",
        "It does not matter what you leave beyond the returned k (hence they are underscores)."
      ]
    },
    {
      "cell_type": "code",
      "metadata": {
        "id": "z6Zd3FvdMseU"
      },
      "source": [
        "class Solution {\n",
        "    public int removeElement(int[] nums, int val) {\n",
        "        int length = nums.length;\n",
        "        for(int i=0; i<length; i++) {\n",
        "            if(nums[i]==val) {\n",
        "                for(int j=i+1;j<length;j++) {\n",
        "                    nums[j-1]=nums[j];\n",
        "                }\n",
        "                length -= 1;\n",
        "                i-=1;\n",
        "            }\n",
        "        }\n",
        "        return length;\n",
        "    }\n",
        "}"
      ],
      "execution_count": null,
      "outputs": []
    },
    {
      "cell_type": "markdown",
      "metadata": {
        "id": "wZ-TQEbSEGgM"
      },
      "source": [
        "## Remove Duplicates from Sorted Array\n",
        "\n",
        "\n",
        "Given an integer array nums sorted in non-decreasing order, remove the duplicates in-place such that each unique element appears only once. The relative order of the elements should be kept the same.\n",
        "\n",
        "Since it is impossible to change the length of the array in some languages, you must instead have the result be placed in the first part of the array nums. More formally, if there are k elements after removing the duplicates, then the first k elements of nums should hold the final result. It does not matter what you leave beyond the first k elements.\n",
        "\n",
        "Return k after placing the final result in the first k slots of nums.\n",
        "\n",
        "Do not allocate extra space for another array. You must do this by modifying the input array in-place with O(1) extra memory.\n",
        "\n",
        "Custom Judge:\n",
        "\n",
        "The judge will test your solution with the following code:\n",
        "\n",
        "    int[] nums = [...]; // Input array\n",
        "    int[] expectedNums = [...]; // The expected answer with correct length\n",
        "\n",
        "    int k = removeDuplicates(nums); // Calls your implementation\n",
        "\n",
        "    assert k == expectedNums.length;\n",
        "    for (int i = 0; i < k; i++) {\n",
        "        assert nums[i] == expectedNums[i];\n",
        "    }\n",
        "If all assertions pass, then your solution will be accepted.\n",
        "\n",
        " \n",
        "\n",
        "Example :\n",
        "\n",
        "    Input: nums = [1,1,2]\n",
        "    Output: 2, nums = [1,2,_]\n",
        "    Explanation: Your function should return k = 2, with the first two elements of nums being 1 and 2 respectively.\n",
        "It does not matter what you leave beyond the returned k (hence they are underscores)."
      ]
    },
    {
      "cell_type": "code",
      "metadata": {
        "id": "SHxsa2RqFrNJ"
      },
      "source": [
        "class Solution {\n",
        "    public int removeDuplicates(int[] nums) {\n",
        "        int length = nums.length;\n",
        "        for(int i=1; i<length; i++) {\n",
        "            if(nums[i-1] == nums[i]) {\n",
        "                for(int j=i+1;j<length;j++) {\n",
        "                    nums[j-1]=nums[j];\n",
        "                }\n",
        "                length -= 1;\n",
        "                i-=1;\n",
        "            }\n",
        "        }\n",
        "        return length;\n",
        "    }\n",
        "}"
      ],
      "execution_count": null,
      "outputs": []
    }
  ]
}