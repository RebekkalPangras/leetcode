{
  "nbformat": 4,
  "nbformat_minor": 0,
  "metadata": {
    "colab": {
      "name": "Array",
      "provenance": [],
      "authorship_tag": "ABX9TyNiZfcXxJ8cSa8vdRa7hqIV",
      "include_colab_link": true
    },
    "kernelspec": {
      "name": "python3",
      "display_name": "Python 3"
    },
    "language_info": {
      "name": "python"
    }
  },
  "cells": [
    {
      "cell_type": "markdown",
      "metadata": {
        "id": "view-in-github",
        "colab_type": "text"
      },
      "source": [
        "<a href=\"https://colab.research.google.com/github/RebekkalPangras/leetcode/blob/main/Array.ipynb\" target=\"_parent\"><img src=\"https://colab.research.google.com/assets/colab-badge.svg\" alt=\"Open In Colab\"/></a>"
      ]
    },
    {
      "cell_type": "markdown",
      "metadata": {
        "id": "6mfShHhtyZrV"
      },
      "source": [
        "##  Max Consecutive Ones\n",
        "\n",
        "\n",
        "Given a binary array nums, return the maximum number of consecutive 1's in the array.\n",
        "\n",
        "\n",
        "    Input: nums = [1,1,0,1,1,1]\n",
        "    Output: 3\n",
        "    Explanation: The first two digits or the last three digits are consecutive 1s. The maximum number of consecutive 1s is 3."
      ]
    },
    {
      "cell_type": "code",
      "metadata": {
        "id": "dq2r903VygzS"
      },
      "source": [
        "class Solution {\n",
        "    public int findMaxConsecutiveOnes(int[] nums) {\n",
        "        int cons_one = 0;\n",
        "        int new_cons = 0;\n",
        "        for(int element:nums) {\n",
        "            if(element == 1){\n",
        "                new_cons += 1;\n",
        "            } else {\n",
        "                if(new_cons > cons_one){\n",
        "                    cons_one = new_cons;\n",
        "                }\n",
        "                new_cons = 0;\n",
        "            }\n",
        "        }\n",
        "        if(new_cons > cons_one){\n",
        "            cons_one = new_cons;\n",
        "        }\n",
        "        return cons_one;\n",
        "    }\n",
        "}"
      ],
      "execution_count": null,
      "outputs": []
    },
    {
      "cell_type": "markdown",
      "metadata": {
        "id": "F4EI-bqb0XQb"
      },
      "source": [
        "## Find Numbers with Even Number of Digits\n",
        "\n",
        "Given an array nums of integers, return how many of them contain an even number of digits.\n",
        " \n",
        "\n",
        "Example:\n",
        "\n",
        "    Input: nums = [12,345,2,6,7896]\n",
        "    Output: 2\n",
        "    Explanation: \n",
        "      12 contains 2 digits (even number of digits). \n",
        "      345 contains 3 digits (odd number of digits). \n",
        "      2 contains 1 digit (odd number of digits). \n",
        "      6 contains 1 digit (odd number of digits). \n",
        "      7896 contains 4 digits (even number of digits). \n",
        "    Therefore only 12 and 7896 contain an even number of digits."
      ]
    },
    {
      "cell_type": "code",
      "metadata": {
        "id": "_-jHuSKR0fsX"
      },
      "source": [
        "class Solution {\n",
        "    public int findNumbers(int[] nums) {\n",
        "        int evenNums = 0;\n",
        "        int numLen = 0;\n",
        "        for(int num : nums) {\n",
        "            numLen = String.valueOf(num).length();\n",
        "            if(numLen%2 == 0) {\n",
        "                evenNums +=1;\n",
        "            }\n",
        "        }\n",
        "        return evenNums;\n",
        "    }\n",
        "}"
      ],
      "execution_count": null,
      "outputs": []
    },
    {
      "cell_type": "markdown",
      "metadata": {
        "id": "kWMoKXbp2KwM"
      },
      "source": [
        "## Squares of a Sorted Array\n",
        "\n",
        "Given an integer array nums sorted in non-decreasing order, return an array of the squares of each number sorted in non-decreasing order.\n",
        "\n",
        " \n",
        "\n",
        "Example:\n",
        "\n",
        "    Input: nums = [-4,-1,0,3,10]\n",
        "    Output: [0,1,9,16,100]\n",
        "    Explanation: After squaring, the array becomes [16,1,0,9,100].\n",
        "    After sorting, it becomes [0,1,9,16,100]."
      ]
    },
    {
      "cell_type": "code",
      "metadata": {
        "id": "OLDPW16Z2QF5"
      },
      "source": [
        "class Solution {\n",
        "    public int[] sortedSquares(int[] nums) {\n",
        "        \n",
        "        for(int i=0;i<nums.length;i++){\n",
        "            nums[i]=nums[i]*nums[i];\n",
        "        }\n",
        "        Arrays.sort(nums);\n",
        "        return nums;\n",
        "    }\n",
        "}"
      ],
      "execution_count": null,
      "outputs": []
    },
    {
      "cell_type": "markdown",
      "metadata": {
        "id": "0RRcdFO892Oa"
      },
      "source": [
        "# Inserting items into an Array\n",
        "\n",
        "## Duplicate Zeros\n",
        "\n",
        "Given a fixed length array arr of integers, duplicate each occurrence of zero, shifting the remaining elements to the right.\n",
        "\n",
        "\n",
        "Note that elements beyond the length of the original array are not written.\n",
        "\n",
        "\n",
        "Do the above modifications to the input array in place, do not return anything from your function.\n",
        "\n",
        " \n",
        "\n",
        "Example:\n",
        "\n",
        "    Input: [1,0,2,3,0,4,5,0]\n",
        "    Output: null\n",
        "    Explanation: After calling your function, the input array is modified to: [1,0,0,2,3,0,0,4]"
      ]
    },
    {
      "cell_type": "code",
      "metadata": {
        "id": "94g6cze7-I26"
      },
      "source": [
        "class Solution {\n",
        "    public void duplicateZeros(int[] arr) {\n",
        "        for(int i=0; i<arr.length-1;i++) {\n",
        "            if(arr[i]==0) {\n",
        "                for(int j = arr.length-2; j>i; j--) {\n",
        "                    arr[j+1] = arr[j];\n",
        "                }\n",
        "                arr[i+1]=0;\n",
        "                i+=1;\n",
        "            }\n",
        "        }\n",
        "    }\n",
        "}"
      ],
      "execution_count": null,
      "outputs": []
    },
    {
      "cell_type": "markdown",
      "metadata": {
        "id": "L1OVE8CCHFqt"
      },
      "source": [
        "## Merge Sorted Array\n",
        "\n",
        "\n",
        "You are given two integer arrays nums1 and nums2, sorted in non-decreasing order, and two integers m and n, representing the number of elements in nums1 and nums2 respectively.\n",
        "\n",
        "\n",
        "Merge nums1 and nums2 into a single array sorted in non-decreasing order.\n",
        "\n",
        "\n",
        "The final sorted array should not be returned by the function, but instead be stored inside the array nums1. To accommodate this, nums1 has a length of m + n, where the first m elements denote the elements that should be merged, and the last n elements are set to 0 and should be ignored. nums2 has a length of n.\n",
        "\n",
        " \n",
        "\n",
        "Example:\n",
        "\n",
        "    Input: nums1 = [1,2,3,0,0,0], m = 3, nums2 = [2,5,6], n = 3\n",
        "    Output: [1,2,2,3,5,6]\n",
        "    Explanation: The arrays we are merging are [1,2,3] and [2,5,6].\n",
        "    The result of the merge is [1,2,2,3,5,6] with the underlined elements coming from nums1."
      ]
    },
    {
      "cell_type": "code",
      "metadata": {
        "id": "SJe1_YbsHOn4"
      },
      "source": [
        "class Solution {\n",
        "    public void merge(int[] nums1, int m, int[] nums2, int n) {\n",
        "        int j =0;\n",
        "        if(n>0){\n",
        "            for(int i=0;i<nums1.length;i++) {\n",
        "                if(nums1[i] >= nums2[j]) {                \n",
        "                    for(int k=m+n-2; k>=i; k--){\n",
        "                        nums1[k+1] = nums1[k];\n",
        "                    }\n",
        "                    nums1[i]=nums2[j];\n",
        "                    System.out.println(nums1[i]);\n",
        "                    j+=1;\n",
        "                } else if(nums1[i]==0&&m==0) {\n",
        "                    nums1[i]=nums2[j];\n",
        "                    j+=1;\n",
        "                } else if(nums1[i]==0&&nums1.length-i == nums2.length-j){\n",
        "                    nums1[i]=nums2[j];\n",
        "                    j+=1;\n",
        "                }\n",
        "                \n",
        "                if(j==nums2.length){\n",
        "                    break;\n",
        "                }\n",
        "            }\n",
        "        }\n",
        "    }\n",
        "}"
      ],
      "execution_count": null,
      "outputs": []
    },
    {
      "cell_type": "markdown",
      "metadata": {
        "id": "yq8T9QMFD8Ox"
      },
      "source": [
        "## Remove Element\n",
        "\n",
        "\n",
        "Given an integer array nums and an integer val, remove all occurrences of val in nums in-place. The relative order of the elements may be changed.\n",
        "\n",
        "Since it is impossible to change the length of the array in some languages, you must instead have the result be placed in the first part of the array nums. More formally, if there are k elements after removing the duplicates, then the first k elements of nums should hold the final result. It does not matter what you leave beyond the first k elements.\n",
        "\n",
        "Return k after placing the final result in the first k slots of nums.\n",
        "\n",
        "Do not allocate extra space for another array. You must do this by modifying the input array in-place with O(1) extra memory.\n",
        "\n",
        "Custom Judge:\n",
        "\n",
        "The judge will test your solution with the following code:\n",
        "\n",
        "    int[] nums = [...]; // Input array\n",
        "    int val = ...; // Value to remove\n",
        "    int[] expectedNums = [...]; // The expected answer with correct length.\n",
        "                                // It is sorted with no values equaling val.\n",
        "\n",
        "    int k = removeElement(nums, val); // Calls your implementation\n",
        "\n",
        "    assert k == expectedNums.length;\n",
        "    sort(nums, 0, k); // Sort the first k elements of nums\n",
        "    for (int i = 0; i < actualLength; i++) {\n",
        "        assert nums[i] == expectedNums[i];\n",
        "    }\n",
        "If all assertions pass, then your solution will be accepted.\n",
        "\n",
        " \n",
        "\n",
        "Example:\n",
        "\n",
        "    Input: nums = [3,2,2,3], val = 3\n",
        "    Output: 2, nums = [2,2,_,_]\n",
        "    Explanation: Your function should return k = 2, with the first two elements of nums being 2.\n",
        "It does not matter what you leave beyond the returned k (hence they are underscores)."
      ]
    },
    {
      "cell_type": "code",
      "metadata": {
        "id": "z6Zd3FvdMseU"
      },
      "source": [
        "class Solution {\n",
        "    public int removeElement(int[] nums, int val) {\n",
        "        int length = nums.length;\n",
        "        for(int i=0; i<length; i++) {\n",
        "            if(nums[i]==val) {\n",
        "                for(int j=i+1;j<length;j++) {\n",
        "                    nums[j-1]=nums[j];\n",
        "                }\n",
        "                length -= 1;\n",
        "                i-=1;\n",
        "            }\n",
        "        }\n",
        "        return length;\n",
        "    }\n",
        "}"
      ],
      "execution_count": null,
      "outputs": []
    },
    {
      "cell_type": "markdown",
      "metadata": {
        "id": "wZ-TQEbSEGgM"
      },
      "source": [
        "## Remove Duplicates from Sorted Array\n",
        "\n",
        "\n",
        "Given an integer array nums sorted in non-decreasing order, remove the duplicates in-place such that each unique element appears only once. The relative order of the elements should be kept the same.\n",
        "\n",
        "Since it is impossible to change the length of the array in some languages, you must instead have the result be placed in the first part of the array nums. More formally, if there are k elements after removing the duplicates, then the first k elements of nums should hold the final result. It does not matter what you leave beyond the first k elements.\n",
        "\n",
        "Return k after placing the final result in the first k slots of nums.\n",
        "\n",
        "Do not allocate extra space for another array. You must do this by modifying the input array in-place with O(1) extra memory.\n",
        "\n",
        "Custom Judge:\n",
        "\n",
        "The judge will test your solution with the following code:\n",
        "\n",
        "    int[] nums = [...]; // Input array\n",
        "    int[] expectedNums = [...]; // The expected answer with correct length\n",
        "\n",
        "    int k = removeDuplicates(nums); // Calls your implementation\n",
        "\n",
        "    assert k == expectedNums.length;\n",
        "    for (int i = 0; i < k; i++) {\n",
        "        assert nums[i] == expectedNums[i];\n",
        "    }\n",
        "If all assertions pass, then your solution will be accepted.\n",
        "\n",
        " \n",
        "\n",
        "Example :\n",
        "\n",
        "    Input: nums = [1,1,2]\n",
        "    Output: 2, nums = [1,2,_]\n",
        "    Explanation: Your function should return k = 2, with the first two elements of nums being 1 and 2 respectively.\n",
        "It does not matter what you leave beyond the returned k (hence they are underscores)."
      ]
    },
    {
      "cell_type": "code",
      "metadata": {
        "id": "SHxsa2RqFrNJ"
      },
      "source": [
        "class Solution {\n",
        "    public int removeDuplicates(int[] nums) {\n",
        "        int length = nums.length;\n",
        "        for(int i=1; i<length; i++) {\n",
        "            if(nums[i-1] == nums[i]) {\n",
        "                for(int j=i+1;j<length;j++) {\n",
        "                    nums[j-1]=nums[j];\n",
        "                }\n",
        "                length -= 1;\n",
        "                i-=1;\n",
        "            }\n",
        "        }\n",
        "        return length;\n",
        "    }\n",
        "}"
      ],
      "execution_count": null,
      "outputs": []
    },
    {
      "cell_type": "markdown",
      "metadata": {
        "id": "ZpvqasxV-_ZX"
      },
      "source": [
        "## Check If N and Its Double Exist\n",
        "\n",
        "\n",
        "Given an array arr of integers, check if there exists two integers N and M such that N is the double of M ( i.e. N = 2 * M).\n",
        "\n",
        "\n",
        "More formally check if there exists two indices i and j such that :\n",
        "\n",
        "    i != j\n",
        "    0 <= i, j < arr.length\n",
        "    arr[i] == 2 * arr[j]\n",
        " \n",
        "\n",
        "Example:\n",
        "\n",
        "    Input: arr = [10,2,5,3]\n",
        "    Output: true\n",
        "    Explanation: N = 10 is the double of M = 5,that is, 10 = 2 * 5."
      ]
    },
    {
      "cell_type": "code",
      "metadata": {
        "id": "LNAScDTw--2X"
      },
      "source": [
        "class Solution {\n",
        "    public boolean checkIfExist(int[] arr) {\n",
        "        Set<Integer> seen = new HashSet();\n",
        "        for(int elem:arr) {\n",
        "            if(elem%2==0&&(seen.contains(elem/2))||(seen.contains(elem*2))) {\n",
        "                return true;\n",
        "            } else {\n",
        "                seen.add(elem);\n",
        "            }\n",
        "        }\n",
        "        return false;\n",
        "    }    \n",
        "}"
      ],
      "execution_count": null,
      "outputs": []
    },
    {
      "cell_type": "markdown",
      "metadata": {
        "id": "1v4-RAcmDtrn"
      },
      "source": [
        "## Valid Mountain Array\n",
        "\n",
        "\n",
        "Given an array of integers arr, return true if and only if it is a valid mountain array.![image.png](data:image/png;base64,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)\n",
        "\n",
        "Recall that arr is a mountain array if and only if:\n",
        "\n",
        "  * arr.length >= 3\n",
        "  * There exists some i with 0 < i < arr.length - 1 such that:\n",
        "    * arr[0] < arr[1] < ... < arr[i - 1] < arr[i]\n",
        "    * arr[i] > arr[i + 1] > ... > arr[arr.length - 1]\n",
        "\n",
        " \n",
        "\n",
        "Example 1:\n",
        "\n",
        "    Input: arr = [2,1]\n",
        "    Output: false\n",
        "    Example 2:\n",
        "\n",
        "    Input: arr = [3,5,5]\n",
        "    Output: false\n",
        "    Example 3:\n",
        "\n",
        "    Input: arr = [0,3,2,1]\n",
        "    Output: true\n",
        " \n",
        "\n",
        "Constraints:\n",
        "\n",
        "  * 1 <= arr.length <= 104\n",
        "  * 0 <= arr[i] <= 104"
      ]
    },
    {
      "cell_type": "code",
      "metadata": {
        "id": "j_WwyzkQEIlO"
      },
      "source": [
        "class Solution {\n",
        "    public boolean validMountainArray(int[] arr) {\n",
        "        int increasingIndex = 0;\n",
        "        int decreasingIndex = 0;\n",
        "        boolean decreaseFlag = false;\n",
        "        boolean increaseFlag = false;\n",
        "        if(arr.length>2) {\n",
        "            // find the decreasing point\n",
        "            for(int i=0; i<arr.length-1;i++){\n",
        "                if(arr[i+1]<arr[i]){\n",
        "                    decreasingIndex = i;\n",
        "                    decreaseFlag = true;\n",
        "                    break;\n",
        "                } else if(arr[i+1]==arr[i]) {\n",
        "                    return false;\n",
        "                }\n",
        "            }\n",
        "            // find the increasing point\n",
        "            for(int i=arr.length-1; i>0;i--){\n",
        "                if(arr[i-1]<arr[i]){\n",
        "                    increasingIndex = i;\n",
        "                    increaseFlag = true;\n",
        "                    break;\n",
        "                } else if(arr[i-1]==arr[i]) {\n",
        "                    return false;\n",
        "                }\n",
        "            }\n",
        "            if(increasingIndex==decreasingIndex&&increaseFlag==true&&decreaseFlag==true) {\n",
        "                return true;\n",
        "            }\n",
        "            return false;\n",
        "        }        \n",
        "        return false;\n",
        "    }\n",
        "}"
      ],
      "execution_count": null,
      "outputs": []
    },
    {
      "cell_type": "markdown",
      "metadata": {
        "id": "YBFeMOI9JQCV"
      },
      "source": [
        "# In-Place operations\n",
        "\n",
        "## Replace Elements with Greatest Element on Right Side\n",
        "\n",
        "\n",
        "Given an array arr, replace every element in that array with the greatest element among the elements to its right, and replace the last element with -1.\n",
        "\n",
        "\n",
        "After doing so, return the array.\n",
        "\n",
        " \n",
        "\n",
        "Example 1:\n",
        "\n",
        "    Input: arr = [17,18,5,4,6,1]\n",
        "    Output: [18,6,6,6,1,-1]\n",
        "    Explanation: \n",
        "    - index 0 --> the greatest element to the right of index 0 is index 1 (18).\n",
        "    - index 1 --> the greatest element to the right of index 1 is index 4 (6).\n",
        "    - index 2 --> the greatest element to the right of index 2 is index 4 (6).\n",
        "    - index 3 --> the greatest element to the right of index 3 is index 4 (6).\n",
        "    - index 4 --> the greatest element to the right of index 4 is index 5 (1).\n",
        "    - index 5 --> there are no elements to the right of index 5, so we"
      ]
    },
    {
      "cell_type": "code",
      "metadata": {
        "id": "1rsNUzL0Japd"
      },
      "source": [
        "class Solution {\n",
        "    public int[] replaceElements(int[] arr) {\n",
        "        int maximum = 0;\n",
        "        for(int i=arr.length-1; i>=0;i--) {\n",
        "            if(i==arr.length-1) {\n",
        "                maximum = arr[i];\n",
        "                arr[i] = -1;\n",
        "            } else {\n",
        "                if(arr[i]>maximum) {\n",
        "                    int temp = arr[i];\n",
        "                    arr[i] = maximum;\n",
        "                    maximum = temp;                    \n",
        "                } else {\n",
        "                    arr[i]=maximum;\n",
        "                }\n",
        "            }\n",
        "        }\n",
        "        return arr;\n",
        "    }\n",
        "}"
      ],
      "execution_count": null,
      "outputs": []
    },
    {
      "cell_type": "markdown",
      "metadata": {
        "id": "6GakqTvsPdK5"
      },
      "source": [
        "## A Better Repeated Deletion Algorithm - Intro\n",
        "\n",
        "\n",
        "Let's look at one more example. This time, the result Array is smaller than the input Array! How's this going to work? Let's find out! Here's the problem description:\n",
        "\n",
        "\n",
        "Given a sorted array, remove the duplicates such that each element appears only once.\n",
        "\n",
        "    Input: array = [1, 1, 2]\n",
        "    Output: [1, 2]\n",
        "    \n",
        "    Input: array = [0, 0, 1, 1, 1, 2, 2, 3, 3, 4]\n",
        "    Output: [0, 1, 2, 3, 4]"
      ]
    },
    {
      "cell_type": "code",
      "metadata": {
        "id": "kBeo2_X4Pls4"
      },
      "source": [
        ""
      ],
      "execution_count": null,
      "outputs": []
    }
  ]
}